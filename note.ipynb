{
 "cells": [
  {
   "cell_type": "markdown",
   "id": "88a85a46",
   "metadata": {},
   "source": [
    "# frontend"
   ]
  },
  {
   "cell_type": "code",
   "execution_count": null,
   "id": "28de399e",
   "metadata": {
    "vscode": {
     "languageId": "plaintext"
    }
   },
   "outputs": [],
   "source": [
    "npx create-next-app@latest client\n",
    "cd client\n",
    "npm install axios"
   ]
  },
  {
   "cell_type": "code",
   "execution_count": null,
   "id": "04c1ee6b",
   "metadata": {
    "vscode": {
     "languageId": "plaintext"
    }
   },
   "outputs": [],
   "source": [
    "cd client\n",
    "npm run dev"
   ]
  },
  {
   "cell_type": "code",
   "execution_count": null,
   "id": "c3122dbb",
   "metadata": {
    "vscode": {
     "languageId": "plaintext"
    }
   },
   "outputs": [],
   "source": []
  },
  {
   "cell_type": "markdown",
   "id": "b0de6b69",
   "metadata": {},
   "source": [
    "# backend"
   ]
  },
  {
   "cell_type": "code",
   "execution_count": null,
   "id": "e1de460e",
   "metadata": {
    "vscode": {
     "languageId": "plaintext"
    }
   },
   "outputs": [],
   "source": [
    "mkdir server\n",
    "cd server\n",
    "npm init -y"
   ]
  },
  {
   "cell_type": "code",
   "execution_count": null,
   "id": "498bb07d",
   "metadata": {
    "vscode": {
     "languageId": "plaintext"
    }
   },
   "outputs": [],
   "source": [
    "npm install express mongoose dotenv cors nodemon"
   ]
  },
  {
   "cell_type": "code",
   "execution_count": null,
   "id": "973ebdd4",
   "metadata": {
    "vscode": {
     "languageId": "plaintext"
    }
   },
   "outputs": [],
   "source": [
    "cd server\n",
    "node seed.js"
   ]
  },
  {
   "cell_type": "code",
   "execution_count": null,
   "id": "2f505779",
   "metadata": {
    "vscode": {
     "languageId": "plaintext"
    }
   },
   "outputs": [],
   "source": [
    "cd server\n",
    "npm run dev"
   ]
  },
  {
   "cell_type": "code",
   "execution_count": null,
   "id": "a7c51ceb",
   "metadata": {
    "vscode": {
     "languageId": "plaintext"
    }
   },
   "outputs": [],
   "source": [
    "/** @type {import('next').NextConfig} */\n",
    "const nextConfig = {\n",
    "  output: 'export', // 👈 This enables static HTML export\n",
    "  reactStrictMode: true\n",
    "};\n",
    "\n",
    "export default nextConfig;\n",
    "\n",
    "\n",
    "//\n",
    "\n",
    "npm run build\n"
   ]
  }
 ],
 "metadata": {
  "language_info": {
   "name": "python"
  }
 },
 "nbformat": 4,
 "nbformat_minor": 5
}
